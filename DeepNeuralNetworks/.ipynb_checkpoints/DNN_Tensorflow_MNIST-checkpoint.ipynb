{
 "cells": [
  {
   "cell_type": "markdown",
   "metadata": {},
   "source": [
    "# Neural Network Tutorial in Tensorflow\n",
    "\n",
    "Author: Michael Piseno\n",
    "\n",
    "Fractal\n",
    "\n",
    "This is an example of how to classify the popular MNIST dataset using a deep neural network in tensorflow. If you're unfamiliar with neural network basics or tensorflow basics, I suggest you look at my guides on those subject before continuing."
   ]
  },
  {
   "cell_type": "code",
   "execution_count": 12,
   "metadata": {},
   "outputs": [
    {
     "name": "stdout",
     "output_type": "stream",
     "text": [
      "Extracting MNIST_data/train-images-idx3-ubyte.gz\n",
      "Extracting MNIST_data/train-labels-idx1-ubyte.gz\n",
      "Extracting MNIST_data/t10k-images-idx3-ubyte.gz\n",
      "Extracting MNIST_data/t10k-labels-idx1-ubyte.gz\n"
     ]
    }
   ],
   "source": [
    "import tensorflow as tf\n",
    "import numpy as np\n",
    "import matplotlib.pyplot as plt\n",
    "%matplotlib inline\n",
    "\n",
    "old_v = tf.logging.get_verbosity()\n",
    "tf.logging.set_verbosity(tf.logging.ERROR)\n",
    "\n",
    "from tensorflow.examples.tutorials.mnist import input_data\n",
    "\n",
    "mnist = input_data.read_data_sets(\"MNIST_data/\", one_hot=True)"
   ]
  },
  {
   "cell_type": "code",
   "execution_count": 13,
   "metadata": {},
   "outputs": [
    {
     "name": "stdout",
     "output_type": "stream",
     "text": [
      "<class 'numpy.ndarray'>\n",
      "<class 'numpy.ndarray'>\n",
      "(55000, 784)\n",
      "(55000, 10)\n",
      "\n",
      "\n",
      "First 10 entires: \n",
      "[[0. 0. 0. ... 0. 0. 0.]\n",
      " [0. 0. 0. ... 0. 0. 0.]\n",
      " [0. 0. 0. ... 0. 0. 0.]\n",
      " ...\n",
      " [0. 0. 0. ... 0. 0. 0.]\n",
      " [0. 0. 0. ... 0. 0. 0.]\n",
      " [0. 0. 0. ... 0. 0. 0.]]\n",
      "First 10 labels: \n",
      "[[0 0 0 0 0 0 0 0 0 1]\n",
      " [0 0 0 0 0 0 1 0 0 0]\n",
      " [1 0 0 0 0 0 0 0 0 0]\n",
      " [0 0 0 1 0 0 0 0 0 0]\n",
      " [0 0 0 0 0 0 1 0 0 0]\n",
      " [0 1 0 0 0 0 0 0 0 0]\n",
      " [0 0 0 0 0 0 0 0 0 1]\n",
      " [0 0 0 0 0 0 1 0 0 0]\n",
      " [1 0 0 0 0 0 0 0 0 0]\n",
      " [1 0 0 0 0 0 0 0 0 0]]\n"
     ]
    }
   ],
   "source": [
    "# Extract the training and test data\n",
    "train_data = mnist.train.images  # Returns np.array\n",
    "train_labels = np.asarray(mnist.train.labels, dtype=np.int32)\n",
    "test_data = mnist.test.images  # Returns np.array\n",
    "test_labels = np.asarray(mnist.test.labels, dtype=np.int32)\n",
    "\n",
    "# Randomly shuffle the data\n",
    "train_idx = np.random.permutation(train_data.shape[0])\n",
    "test_idx = np.random.permutation(test_data.shape[0])\n",
    "train_data = train_data[train_idx]\n",
    "train_labels = train_labels[train_idx]\n",
    "test_data = test_data[test_idx]\n",
    "test_labels = test_labels[test_idx]\n",
    "\n",
    "# Familiarize yourself with some information about the data\n",
    "print(type(train_data))\n",
    "print(type(train_labels))\n",
    "print(train_data.shape)\n",
    "print(train_labels.shape)\n",
    "print(\"\\n\")\n",
    "print(\"First 10 entires: \\n\" + str(train_data[0:10]))\n",
    "print(\"First 10 labels: \\n\" + str(train_labels[0:10]))"
   ]
  },
  {
   "cell_type": "markdown",
   "metadata": {},
   "source": [
    "# Visualizing data\n",
    "\n",
    "We want to get an idea of what our example look like so that we can become more familiar with the set as a whole. We will extract a single example, data[0], and then reshape it to a 28x28 pixel image. This is because tensorflow imported the data as a 784x1 numpy array, which is the necessary shape once we put our images into our neural network. We then use matplotlib.pyplot's imshow() function to display the image."
   ]
  },
  {
   "cell_type": "code",
   "execution_count": 14,
   "metadata": {},
   "outputs": [
    {
     "data": {
      "image/png": "[encoded data removed]",
      "text/plain": [
       "<Figure size 432x288 with 1 Axes>"
      ]
     },
     "metadata": {},
     "output_type": "display_data"
    }
   ],
   "source": [
    "# Visualize the data\n",
    "example = np.reshape(train_data[0], (28,28))\n",
    "imgplot = plt.imshow(example)"
   ]
  },
  {
   "cell_type": "markdown",
   "metadata": {},
   "source": [
    "# Defining some hyperparameters and network architecture\n",
    "\n",
    "Here we set up some initial information about our network which we will use later on. These include epochs, learning rate, network shape, batch size, etc.. You can change these values and see how your accuracy changes, which will give you a better idea of what each value actual does for the model."
   ]
  },
  {
   "cell_type": "code",
   "execution_count": 15,
   "metadata": {},
   "outputs": [],
   "source": [
    "epochs = 1000\n",
    "batch_size = 100\n",
    "learning_rate = 0.00005\n",
    "\n",
    "network_shape = [784, 300, 30, 10]"
   ]
  },
  {
   "cell_type": "code",
   "execution_count": 16,
   "metadata": {},
   "outputs": [],
   "source": [
    "# Set up the network architecture\n",
    "\n",
    "y = tf.placeholder(tf.float32, [None, 10])\n",
    "\n",
    "# Layer 1\n",
    "x = tf.placeholder(tf.float32, [None, train_data.shape[1]])\n",
    "W1 = tf.Variable(tf.random_normal([train_data.shape[1], network_shape[1]]))\n",
    "b1 = tf.Variable(tf.ones([network_shape[1]]))\n",
    "Z1 = tf.add(tf.matmul(x, W1), b1)\n",
    "H1 = tf.nn.relu(Z1)\n",
    "\n",
    "# Layer 2\n",
    "W2 = tf.Variable(tf.random_normal([H1.shape.as_list()[1], network_shape[2]]))\n",
    "b2 = tf.Variable(tf.ones([network_shape[2]]))               \n",
    "Z2 = tf.add(tf.matmul(H1, W2), b2)\n",
    "H2 = tf.nn.relu(Z2)\n",
    "\n",
    "# Layer 3\n",
    "W3 = tf.Variable(tf.random_normal ([H2.shape.as_list()[1], network_shape[3]]))\n",
    "b3 = tf.Variable(tf.ones([network_shape[3]]))\n",
    "Z3 = tf.add(tf.matmul(H2, W3), b3)\n",
    "H3 = tf.nn.relu(Z3)\n",
    "\n",
    "# Output layer\n",
    "out = H3"
   ]
  },
  {
   "cell_type": "markdown",
   "metadata": {},
   "source": [
    "# Setting up cost function, accuracy, and optimizer\n",
    "\n",
    "To evaluate our cost, we will use a built-in cost function from tensorflow that works well with multi-class data.\n",
    "\n",
    "For accuracy, we will simply evaluate how many of the predictions were the correct ones as a percentage of the total training examples. We do this by:\n",
    "    1. Using argmax to find the maximum value of predicted (corresponding to the highest probability)\n",
    "    2. Calling tf.equal() to compare the equality of the predicted digit with the actual digit from the labels\n",
    "    3. Casting isEqual from a boolean array to an integer array so we can average it\n",
    "\n",
    "For the optimizer, which is the algorithm that actually trains the model and adjusts the weights, we use tensorflow's built-in Adam Optimizer."
   ]
  },
  {
   "cell_type": "code",
   "execution_count": 17,
   "metadata": {},
   "outputs": [],
   "source": [
    "def get_cost(predicted, actual):\n",
    "    return tf.reduce_mean(tf.nn.softmax_cross_entropy_with_logits_v2(logits=predicted, labels=actual))"
   ]
  },
  {
   "cell_type": "code",
   "execution_count": 18,
   "metadata": {},
   "outputs": [],
   "source": [
    "def get_accuracy(predicted, actual):\n",
    "    isEqual = tf.equal(tf.argmax(predicted, axis=1), tf.argmax(actual, axis=1))\n",
    "    return 100 * tf.reduce_mean(tf.cast(isEqual, tf.float32))"
   ]
  },
  {
   "cell_type": "code",
   "execution_count": 19,
   "metadata": {},
   "outputs": [],
   "source": [
    "get_acc = get_accuracy(out, y)\n",
    "cost = get_cost(out, y)\n",
    "\n",
    "optimizer = tf.train.AdamOptimizer(learning_rate=learning_rate)\n",
    "train = optimizer.minimize(cost)"
   ]
  },
  {
   "cell_type": "markdown",
   "metadata": {},
   "source": [
    "# Tensorflow session\n",
    "\n",
    "Now that we've done all the setup for the training, it's time to acutally train the network. There's a lot to unpack in this next section so it may help to read carefully and multiple times.\n",
    "\n",
    "Right now we have a graph waiting for us in tensorflowland, but we need to initialize the graph and then execute it on some data. We do this by calling tf.global_variable_initializer(), which \"compiles\" the graph so to speak. We then loop over the number of epochs and the number of batches for each epoch.\n",
    "\n",
    "In a single epoch we do the following:\n",
    "    1. Keep track of the total cost and accuracy for that epoch\n",
    "    2. Iterate over each batch of size batch_size until the entire training set is run through the network\n",
    "    \n",
    "    In a single batch we do the following:\n",
    "        1. calculate the loss, accuracy and optimizer for that batch\n",
    "        2. add those values to the cost/accuracy for that single epoch\n",
    "        \n",
    "    3. Append the cost and accuracy of that epoch to the list containing the costs and accuracies for each epoch\n",
    "    \n",
    "We then evaluate the testing data on the model we just trained and plot out some nice graphs.\n",
    "\n",
    "Note: mnist.train.next_batch() is a function exclusive to the mnist dataset in tensorflow. For other datasets you might use something like tf.train.batch() to get batches"
   ]
  },
  {
   "cell_type": "code",
   "execution_count": 21,
   "metadata": {},
   "outputs": [
    {
     "name": "stdout",
     "output_type": "stream",
     "text": [
      "Training...\n",
      "Epoch: 0, cost: 118.20835963509299, training accuracy: 15.429091006192294%\n",
      "Epoch: 50, cost: 2.0894534761255437, training accuracy: 12.080000067624178%\n",
      "Epoch: 100, cost: 1.961197407245636, training accuracy: 16.38727285038341%\n",
      "Epoch: 150, cost: 1.9007807967879555, training accuracy: 18.640000110973013%\n",
      "Epoch: 200, cost: 1.777636227607727, training accuracy: 23.92545473098755%\n",
      "Epoch: 250, cost: 1.6460814794627103, training accuracy: 29.521818504333496%\n",
      "Epoch: 300, cost: 1.52650662465529, training accuracy: 34.710909219221634%\n",
      "Epoch: 350, cost: 1.458194665041837, training accuracy: 37.56363641912287%\n",
      "Epoch: 400, cost: 1.4190930355678906, training accuracy: 39.27454548228871%\n",
      "Epoch: 450, cost: 1.3819235376878218, training accuracy: 40.67999998959628%\n",
      "Epoch: 500, cost: 1.355121235630729, training accuracy: 41.88727272033692%\n",
      "Epoch: 550, cost: 1.3375082991339944, training accuracy: 42.607272699529474%\n",
      "Epoch: 600, cost: 1.3263623742623762, training accuracy: 43.07454545107755%\n",
      "Epoch: 650, cost: 1.3136033882878044, training accuracy: 43.64%\n",
      "Epoch: 700, cost: 1.2532949683882972, training accuracy: 46.28909087441184%\n",
      "Epoch: 750, cost: 1.2084521573240106, training accuracy: 48.19090902155096%\n",
      "Epoch: 800, cost: 1.1748133006962862, training accuracy: 49.5927271825617%\n",
      "Epoch: 850, cost: 1.15509115988558, training accuracy: 50.41636362249201%\n",
      "Epoch: 900, cost: 1.1300634983452884, training accuracy: 51.470908855091444%\n",
      "Epoch: 950, cost: 1.1322338845513085, training accuracy: 51.363636301214044%\n",
      "\n",
      "Training complete\n",
      "\n",
      "Test Accuracy: 51.5%\n"
     ]
    },
    {
     "data": {
      "image/png": "[encoded data removed]",
      "text/plain": [
       "<Figure size 432x288 with 1 Axes>"
      ]
     },
     "metadata": {},
     "output_type": "display_data"
    }
   ],
   "source": [
    "with tf.Session() as sess:\n",
    "    print(\"Training...\")\n",
    "    sess.run(tf.global_variables_initializer())\n",
    "    \n",
    "    total_cost = []\n",
    "    total_accuracy = []\n",
    "    num_train_batches = len(train_data) // batch_size\n",
    "    # For each epoch we feed the network ALL training examples, in bacthes\n",
    "    for epoch in range(epochs):\n",
    "        \n",
    "        # Keep track of the total cost and accuracy for each epoch\n",
    "        epoch_cost = 0\n",
    "        epoch_acc = 0;\n",
    "        \n",
    "        # In a single epoch, we pass in each batch\n",
    "        for batch in range(num_train_batches):\n",
    "            \n",
    "            # Get the training data batch and training label batch\n",
    "            x_batch, y_batch = mnist.train.next_batch(batch_size=batch_size)\n",
    "            \n",
    "            # Evaluate the loss, accuracy, and optimizer in that order, feeding in the neccesary values\n",
    "            loss, acc, opt = sess.run([cost, get_acc, train], feed_dict={x:x_batch, y:y_batch})\n",
    "            \n",
    "            # Add the loss and accuracy for this batch\n",
    "            epoch_cost += loss\n",
    "            epoch_acc += acc\n",
    "        \n",
    "        # Periodically print out training progress\n",
    "        if epoch % 50 == 0:\n",
    "            print(\"Epoch: {}, cost: {}, training accuracy: {}%\".format(epoch, epoch_cost / num_train_batches,\n",
    "                                                                      epoch_acc / num_train_batches))\n",
    "            \n",
    "        # Append the cost and accuracy of this epoch to the total costs and accuracies for graphing later\n",
    "        total_cost.append(epoch_cost / num_train_batches)\n",
    "        total_accuracy.append(epoch_acc / num_train_batches)\n",
    "        \n",
    "    print(\"\\nTraining complete\")\n",
    "    test_acc = sess.run(get_acc, feed_dict={x:test_data, y:test_labels})\n",
    "    print(\"\\nTest Accuracy: {}%\".format(test_acc))\n",
    "    \n",
    "    plt.plot(np.arange(epochs), np.array(total_accuracy))\n",
    "    plt.xlabel(\"Epochs\")\n",
    "    plt.ylabel(\"Accuracy\")\n",
    "    plt.show()"
   ]
  },
  {
   "cell_type": "markdown",
   "metadata": {},
   "source": [
    "# Whats Next?\n",
    "\n",
    "This may not be the optimal architecture and hyperparameters for this problem. Try out different architectures and hyperparamters to see how your results change. Next we will use Convolutional Neural Networks (CNNs), a special type of neural network, to improve our accuracy substantially.\n",
    "\n",
    "If this guide helped you, please consider becoming a patron! Don't forget to follow Fractal on youtube and like us on Facebook.\n",
    "\n",
    "Made by the Fractal Team :)"
   ]
  }
 ],
 "metadata": {
  "kernelspec": {
   "display_name": "Python 3",
   "language": "python",
   "name": "python3"
  },
  "language_info": {
   "codemirror_mode": {
    "name": "ipython",
    "version": 3
   },
   "file_extension": ".py",
   "mimetype": "text/x-python",
   "name": "python",
   "nbconvert_exporter": "python",
   "pygments_lexer": "ipython3",
   "version": "3.6.4"
  }
 },
 "nbformat": 4,
 "nbformat_minor": 2
}
