{
 "cells": [
  {
   "cell_type": "markdown",
   "metadata": {},
   "source": [
    "# Introduction to Neural Networks\n",
    "\n",
    "Author: Michael Piseno\n",
    "\n",
    "Fractal\n",
    "\n",
    "Machine Learning (ML) has had quite the rennaisance in recent years, with new breakthroughs seemingly every day. If you're like me, then the idea of creating intelligent programs, programs that program other programs, or machines that can think like a human is extremely exciting and interesting. However, when I first started learning about ML, I felt overwhelmed and like everything was so convoluted that it would be a monumental task to even get started, or figure out what I needed to figure out. This guide and the others that I make are designed to ease that burden and thoroughly explain all the concepts you need to get started in ML in one place. \n",
    "\n",
    "This guide will serve as an introduction to the concepts and theory behind neural networks that will eventually allow us to analyze and create Deep Neural Networks (DNNs), which I cover in the DeepNeuralNetworks directory.\n",
    "\n",
    "Prerequisites:\n",
    "- Basic Python knowledge (I'm using version 3.6.4)\n",
    "- Basic linear algebra knowledge (matrix multiplication/addition, dot products, etc.)\n",
    "- Basic knowledge of derivatives from calculus\n",
    "- A text editor, IDE, or jupyter notebook\n",
    "\n",
    "These prerequisites are covered in my IntroGuides repository on [Github](https://github.com/mpiseno/MachineLearningGuides). \n",
    "\n",
    "The format of this guide will go as follows:\n",
    "- Introduce the concept of a neural network\n",
    "- Describe nodes, layers, weights and activation functions\n",
    "- Notation\n",
    "- Show how the computations flow through the network\n",
    "- Show how the network learns (Gradient Descent)\n",
    "- Put it all together in code\n",
    "\n",
    "---"
   ]
  },
  {
   "cell_type": "markdown",
   "metadata": {},
   "source": [
    "## What is a Neural Network?\n",
    "\n",
    "A Neural Network is a network of interconnected neurons that we can use to predict stuff. The neurons are arranged in sequential layers, where each layer is composed of a defined number of neurons. These neurons can \"learn\" from data that we give them so that they can predict properties about futue data that we will give then. The neural network actually is a model for a mathematical function that takes certain inputs and produces certain outputs, just like any other function you learned in school! The function can simple, like modeling y = mx + b or much more complicated and higher dimensional. The way the network learns in by continuously tweaking \"weights\" that change the output of the function. In the example y = mx + b, m is the \"weight\". By changing m, we get very different functions that model data better or worse. y = 5*x + 1 is a different function from y = (1/4)*x + 1000. The b term is whats called a \"bias\", and we will discuss that later.\n",
    "\n",
    "Each neuron in the neural network takes an input, applies some function to that input, and then produces an output that is passed to the next layer of the network. An example of a neuron is seen below. I will use the word \"node\" instead of \"neuron\" from now on, since its more common, but they are interchangeable.\n",
    "\n",
    "![Neuron](./Images/neuron.png)\n",
    "\n",
    "Notice that each node can take multiple inputs. The output serves at the input of each node in the next layer. Below is an example of what a network would look like once all the nodes are connected together.\n",
    "\n",
    "![Network](./Images/network.png)\n",
    "\n",
    "---"
   ]
  },
  {
   "cell_type": "markdown",
   "metadata": {},
   "source": [
    "## Weights and Activation functions\n",
    "\n",
    "Now you may be thinking, \"Okay I understand the structure and how nodes can take input and produce outputs, but what about those weights? And how does the node actually compute the output?\". In this section we will take a look at how a node uses weights and the input of a previous layer to produce its output via an \"activation function\".\n",
    "\n",
    "Lets say a node has three inputs, $x_{1}$, $x_{2}$, and $x_{3}$. Each input has an associated weight, $w_{1}$, $w_{2}$, $w_{3}$ respectively. The inputs and weights are multiplied together and then summed to produce a term we call $z$ for now. So once the inputs arrive at the node, they are mutliplied by the weights and summed to produce $z$ like this:\n",
    "$$z = w_{1}x_{1} + w_{2}x_{2} + w_{3}x_{3} + b$$\n",
    "\n",
    "The weights are what we tweak during the learning process to get a better approximation of whatever function we're trying to model. Don't be too concerned that an extra $b$ appeared here. For our purposes, it just amounts to a constant term in our function. I'll show how to deal with in once we get further along. Anyway, now that we have our $z$ value, we can input it into an activation function. A common activation function to use when you start learning about neural networks is the sigmoid function, which is defined as:\n",
    "$$f(z) = \\frac{1}{1+e^{-z}}$$\n",
    "\n",
    "The output of the activation function tells us how much a certain node contributes to the overall network. Higher values of $f(z)$ correspond to more importance and vice versa. Lets take a look at a coded example for the activation function."
   ]
  },
  {
   "cell_type": "code",
   "execution_count": 2,
   "metadata": {},
   "outputs": [
    {
     "data": {
      "image/png": "[encoded data removed]",
      "text/plain": [
       "<matplotlib.figure.Figure at 0x118d8da20>"
      ]
     },
     "metadata": {},
     "output_type": "display_data"
    }
   ],
   "source": [
    "import numpy as np\n",
    "import matplotlib.pyplot as plt\n",
    "%matplotlib inline\n",
    "\n",
    "# Create an array of x-values to show their corresponding y-values after being passed through the sigmoid function\n",
    "x = np.arange(-10, 10, 0.1)\n",
    "\n",
    "# Define the sigmoid function\n",
    "def sigmoid(z):\n",
    "    return 1 / (1 + np.exp(-z))\n",
    "\n",
    "# Plot\n",
    "plt.plot(x, sigmoid(x))\n",
    "plt.xlabel('x')\n",
    "plt.ylabel('sigmoid(x)')\n",
    "plt.show()"
   ]
  },
  {
   "cell_type": "markdown",
   "metadata": {},
   "source": [
    "We see that the sigmoid function is bounded between 0 and 1, is non-linear, and has a smooth derivative on the given set of x-values. These facts will be important for our network. Here we are setting $z = x$ for each x (i.e. $w_{1} = 1$). But remember $z$ can be a weighted sum of $x$'s."
   ]
  },
  {
   "cell_type": "code",
   "execution_count": null,
   "metadata": {},
   "outputs": [],
   "source": []
  }
 ],
 "metadata": {
  "kernelspec": {
   "display_name": "Python 3",
   "language": "python",
   "name": "python3"
  },
  "language_info": {
   "codemirror_mode": {
    "name": "ipython",
    "version": 3
   },
   "file_extension": ".py",
   "mimetype": "text/x-python",
   "name": "python",
   "nbconvert_exporter": "python",
   "pygments_lexer": "ipython3",
   "version": "3.6.4"
  }
 },
 "nbformat": 4,
 "nbformat_minor": 2
}
